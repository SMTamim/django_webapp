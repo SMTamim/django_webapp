{
  "nbformat": 4,
  "nbformat_minor": 0,
  "metadata": {
    "colab": {
      "name": "ANCHOR External Validation.ipynb",
      "provenance": [],
      "collapsed_sections": [],
      "include_colab_link": true
    },
    "kernelspec": {
      "name": "python3",
      "display_name": "Python 3"
    },
    "language_info": {
      "name": "python"
    }
  },
  "cells": [
    {
      "cell_type": "markdown",
      "metadata": {
        "id": "view-in-github",
        "colab_type": "text"
      },
      "source": [
        "<a href=\"https://colab.research.google.com/github/DrBisu/ANCHOR-model-validation/blob/main/ANCHOR_External_Validation.ipynb\" target=\"_parent\"><img src=\"https://colab.research.google.com/assets/colab-badge.svg\" alt=\"Open In Colab\"/></a>"
      ]
    },
    {
      "cell_type": "markdown",
      "source": [
        "### **Run this to get all the required dependencies**"
      ],
      "metadata": {
        "id": "0mdTiDpdwIF6"
      }
    },
    {
      "cell_type": "code",
      "execution_count": null,
      "metadata": {
        "id": "kmjUoAF2TCpl"
      },
      "outputs": [],
      "source": [
        "import pandas as pd\n",
        "from google.colab import files\n",
        "import io\n",
        "import cv2\n",
        "from tensorflow import keras\n",
        "from sklearn import preprocessing\n",
        "from sklearn.preprocessing import StandardScaler\n",
        "import tensorflow as tf"
      ]
    },
    {
      "cell_type": "markdown",
      "source": [
        "### **Load the pre-trained model**"
      ],
      "metadata": {
        "id": "vf5hvr564PX-"
      }
    },
    {
      "cell_type": "code",
      "source": [
        "!git clone https://github.com/DrBisu/ANCHOR-model-validation.git\n",
        "!unzip /content/ANCHOR-model-validation/final_model.zip\n",
        "reconstructed_model = keras.models.load_model(\"/content/content/final_model1/\")"
      ],
      "metadata": {
        "id": "pWGuvPku3S1x"
      },
      "execution_count": null,
      "outputs": []
    },
    {
      "cell_type": "markdown",
      "source": [
        "### **Upload your data as a Data.xlxs file**"
      ],
      "metadata": {
        "id": "kS4iDi2Rv5c4"
      }
    },
    {
      "cell_type": "code",
      "source": [
        "upload_data= files.upload()\n",
        "df = pd.read_excel(io.BytesIO(upload_data['Data.xlsx']))\n",
        "X = df.drop(['Acceptance Status'], axis = 1)\n",
        "Y = df['Acceptance Status']\n",
        "object = StandardScaler()\n",
        "X[['Age']] = object.fit_transform(df[['Age']])"
      ],
      "metadata": {
        "id": "ND-I2NwzTsNV"
      },
      "execution_count": null,
      "outputs": []
    },
    {
      "cell_type": "markdown",
      "source": [
        "### **Run this for the model to generate the predictions**"
      ],
      "metadata": {
        "id": "CzP3zgATwSRI"
      }
    },
    {
      "cell_type": "code",
      "source": [
        "predictions =pd.DataFrame(data = reconstructed_model.predict(X),columns=['Predictions'])\n",
        "results=pd.concat([Y,predictions],axis = 1)\n",
        "print(results)"
      ],
      "metadata": {
        "colab": {
          "base_uri": "https://localhost:8080/"
        },
        "id": "OgNT3cmCqwQg",
        "outputId": "abf91470-eee4-4d74-e30a-ed7f468f9952"
      },
      "execution_count": null,
      "outputs": [
        {
          "output_type": "stream",
          "name": "stdout",
          "text": [
            "      Acceptance Status  Predictions\n",
            "0                   0.0     0.005580\n",
            "1                   0.0     0.000112\n",
            "2                   0.0     0.000892\n",
            "3                   0.0     0.002912\n",
            "4                   0.0     0.008818\n",
            "...                 ...          ...\n",
            "1495                0.0     0.003071\n",
            "1496                0.0     0.009466\n",
            "1497                0.0     0.001222\n",
            "1498                0.0     0.002002\n",
            "1499                1.0     0.999427\n",
            "\n",
            "[1500 rows x 2 columns]\n"
          ]
        }
      ]
    },
    {
      "cell_type": "markdown",
      "source": [
        "### **Run this to generate an excel file to share your results**"
      ],
      "metadata": {
        "id": "U6B4RKffwhro"
      }
    },
    {
      "cell_type": "code",
      "source": [
        "file_name = 'Result.xlsx'\n",
        "results.to_excel(file_name)"
      ],
      "metadata": {
        "id": "yzz8Dda9wsnU"
      },
      "execution_count": null,
      "outputs": []
    },
    {
      "cell_type": "markdown",
      "source": [
        "### **Please download and share the Results.xlsx file found in the files section on the left**"
      ],
      "metadata": {
        "id": "DcAzorzcwuhl"
      }
    }
  ]
}